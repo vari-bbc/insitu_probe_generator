{
 "cells": [
  {
   "cell_type": "code",
   "execution_count": 1,
   "metadata": {},
   "outputs": [
    {
     "data": {
      "text/html": [
       "\n",
       "<script>\n",
       "function code_toggle(id) {\n",
       "    var cells = document.querySelectorAll(\".jp-CodeCell\");\n",
       "    for (var cell of cells) {\n",
       "        if (cell.querySelector(\"#\" + id) !== null) {\n",
       "            var div = cell.querySelector(\".jp-InputArea\");\n",
       "            if (div.style.display === \"none\") {\n",
       "                div.style.display = \"block\";\n",
       "            } else {\n",
       "                div.style.display = \"none\";\n",
       "            }\n",
       "        }\n",
       "    }\n",
       "}\n",
       "</script>\n"
      ],
      "text/plain": [
       "<IPython.core.display.HTML object>"
      ]
     },
     "metadata": {},
     "output_type": "display_data"
    }
   ],
   "source": [
    "%load_ext ipyform\n",
    "%form_config --auto-detect 1"
   ]
  },
  {
   "cell_type": "markdown",
   "metadata": {},
   "source": [
    "# Welcome to the HCR 3.0 Probe Maker v0.3.2\n",
    "\n",
    "### Written by:\n",
    "RW Null, MD Ramirez, D Sun, and BD Özpolat\n",
    "\n",
    "Modified by Daniel Bautista at the BBC Van Andel Institute\n",
    "\n"
   ]
  },
  {
   "cell_type": "markdown",
   "metadata": {},
   "source": [
    "## Set up the inputs"
   ]
  },
  {
   "cell_type": "code",
   "execution_count": null,
   "metadata": {},
   "outputs": [],
   "source": [
    "# @title Fill the following cells { display-mode: \"form\" }\n",
    "\n",
    "print(\"What is the gene name? (ex. eGFP) \")\n",
    "name = \"fzd5\" # @param {type:\"string\"}\n",
    "print(\"Enter the sense sequence of your cDNA without spaces or returns. \")\n",
    "fullseq = \"\" # @param {type:\"string\"}\n",
    "print(\"What is the amplifier to be used with this probe set? B1,B2,B3,B4,B5,B7,B9,B10,B11,B13,B14,B15,or B17  \")\n",
    "amplifier = \"B5\" # @param [\"B1\",\"B2\",\"B3\",\"B4\",\"B5\",\"B7\",\"B9\",\"B10\",\"B11\",\"B13\",\"B14\",\"B15\",\"B17\"] {allow-input: true}\n",
    "print(\"How many bases from 5' end of the Sense RNA before starting to hybridize? ex. 100 \")\n",
    "pause = 100 # @param {type:\"number\"}\n",
    "print(\"What is the max acceptable length for polyA or polyT homopolymers? \")\n",
    "polyAT = 5 # @param {type:\"number\"}\n",
    "print(\"What is the max acceptable length for polyC or polyG homopolymers? \")\n",
    "polyCG = 5 # @param {type:\"number\"}\n",
    "print(\"Do you want to be able to select between potential longest probe sets? (Choosing 'N' defaults to the first longest set of probes.) \")\n",
    "choose1 = False # @param {type:\"boolean\"}"
   ]
  },
  {
   "cell_type": "code",
   "execution_count": null,
   "metadata": {},
   "outputs": [],
   "source": [
    "from maker37cb import maker\n",
    "maker(name,fullseq,amplifier,pause,choose,polyAT,polyCG,BlastProbes,db,dropout,show,report,maxprobe,numbr)"
   ]
  },
  {
   "cell_type": "code",
   "execution_count": null,
   "metadata": {},
   "outputs": [],
   "source": []
  }
 ],
 "metadata": {
  "kernelspec": {
   "display_name": "hcr",
   "language": "python",
   "name": "python3"
  },
  "language_info": {
   "codemirror_mode": {
    "name": "ipython",
    "version": 3
   },
   "file_extension": ".py",
   "mimetype": "text/x-python",
   "name": "python",
   "nbconvert_exporter": "python",
   "pygments_lexer": "ipython3",
   "version": "3.11.13"
  },
  "orig_nbformat": 4
 },
 "nbformat": 4,
 "nbformat_minor": 2
}
