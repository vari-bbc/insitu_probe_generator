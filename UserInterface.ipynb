{
 "cells": [
  {
   "cell_type": "code",
   "execution_count": 19,
   "metadata": {},
   "outputs": [
    {
     "name": "stdout",
     "output_type": "stream",
     "text": [
      "The ipyform extension is already loaded. To reload it, use:\n",
      "  %reload_ext ipyform\n"
     ]
    }
   ],
   "source": [
    "%load_ext ipyform\n",
    "%form_config --auto-detect 1\n",
    "import warnings\n",
    "warnings.filterwarnings('ignore')"
   ]
  },
  {
   "cell_type": "markdown",
   "metadata": {},
   "source": [
    "# Welcome to the HCR 3.0 Probe Maker v0.3.2\n",
    "\n",
    "### Written by:\n",
    "RW Null, MD Ramirez, D Sun, and BD Özpolat\n",
    "\n",
    "#### Modified by Daniel Bautista at the BBC Van Andel Institute\n",
    "\n"
   ]
  },
  {
   "cell_type": "markdown",
   "metadata": {},
   "source": [
    "## Set up the inputs"
   ]
  },
  {
   "cell_type": "code",
   "execution_count": 14,
   "metadata": {},
   "outputs": [
    {
     "data": {
      "text/html": [
       "<script>setTimeout(function() { code_toggle('a52a8f2b2') }, 1000);</script>"
      ],
      "text/plain": [
       "<IPython.core.display.HTML object>"
      ]
     },
     "metadata": {},
     "output_type": "display_data"
    },
    {
     "data": {
      "application/vnd.jupyter.widget-view+json": {
       "model_id": "a49d89af2d00468f90b9be152c015970",
       "version_major": 2,
       "version_minor": 0
      },
      "text/plain": [
       "FormWidget(children=(VBox(children=(HTML(value='<button onClick=\"code_toggle(\\'a52a8f2b2\\')\" id=\"a52a8f2b2\">Hi…"
      ]
     },
     "execution_count": 14,
     "metadata": {},
     "output_type": "execute_result"
    }
   ],
   "source": [
    "# @title Fill the following cells { display-mode: \"form\" }\n",
    "# @markdown #### What is the gene name? (ex. eGFP)\n",
    "name = \"fzd5\" # @param {type:\"string\"}\n",
    "# @markdown #### Enter the sense sequence of your cDNA without spaces or returns.\n",
    "fullseq = \"\" # @param {type:\"string\"}\n",
    "# @markdown #### What is the amplifier to be used with this probe set? B1,B2,B3,B4,B5,B7,B9,B10,B11,B13,B14,B15,or B17\n",
    "amplifier = \"B5\" # @param [\"B1\",\"B2\",\"B3\",\"B4\",\"B5\",\"B7\",\"B9\",\"B10\",\"B11\",\"B13\",\"B14\",\"B15\",\"B17\"] {allow-input: true}\n",
    "# @markdown #### How many bases from 5' end of the Sense RNA before starting to hybridize? ex. 100\n",
    "pause = 100 # @param {type:\"number\"}\n",
    "# @markdown #### What is the max acceptable length for polyA or polyT homopolymers? \n",
    "polyAT = 5 # @param {type:\"number\"}\n",
    "# @markdown #### What is the max acceptable length for polyC or polyG homopolymers? \n",
    "polyCG = 5 # @param {type:\"number\"}\n",
    "# @markdown #### Do you want to be able to select between potential longest probe sets? (Choosing 'N' defaults to the first longest set of probes.)\n",
    "choose = False # @param {type:\"boolean\"}"
   ]
  },
  {
   "cell_type": "code",
   "execution_count": 24,
   "metadata": {},
   "outputs": [
    {
     "data": {
      "text/html": [
       "<script>setTimeout(function() { code_toggle('a294e2b84') }, 1000);</script>"
      ],
      "text/plain": [
       "<IPython.core.display.HTML object>"
      ]
     },
     "metadata": {},
     "output_type": "display_data"
    },
    {
     "data": {
      "application/vnd.jupyter.widget-view+json": {
       "model_id": "9872ccbe633c4a47923a7cd51f21c63e",
       "version_major": 2,
       "version_minor": 0
      },
      "text/plain": [
       "FormWidget(children=(VBox(children=(HTML(value='<button onClick=\"code_toggle(\\'a294e2b84\\')\" id=\"a294e2b84\">Hi…"
      ]
     },
     "execution_count": 24,
     "metadata": {},
     "output_type": "execute_result"
    }
   ],
   "source": [
    "# @title Advance options { display-mode: \"form\" }\n",
    "# @markdown #### Do you want to be able to select between potential longest probe sets? (Choosing 'N' defaults to the first longest set of probes.) Y or N    \"\n",
    "choose1='n' # @param {type:\"string\"}\n",
    "# @markdown #### Would you like BLAST potential probes against a FASTA file?  Y or N \n",
    "BlastProbes='y' # @param {type:\"string\"}\n",
    "# @markdown #### \n",
    "#BlastcDNA='n'\n",
    "# @markdown #### Where is the FASTA file you would like to BLAST against? Example: 'ref/*.fasta' Ignore if not BLASTing \"\n",
    "db=\"ref/Danio_rerio.GRCz11.cdna.all.fa\" # @param {type:\"string\"}\n",
    "# @markdown #### Do you want to eliminate probes that appear in low quaility BLAST outputs? Y or N \n",
    "dropout='n' # @param {type:\"string\"}\n",
    "# @markdown #### Do you want to display detailed BLAST outputs? Y or N \n",
    "show='n' # @param {type:\"string\"}\n",
    "# @markdown #### Do you want to display chosen parameters in output? Y or N \n",
    "report='n' # @param {type:\"string\"}\n",
    "# @markdown ## Toggle the max/arbitrary number of output sequences\n",
    "# @markdown The biggest number of probes OPools will allow is 33 probe pairs at 50pmol for 99 dollars, less still costs 99, more increases the cost by each additional base.\n",
    "# @markdown This option will let you set the limit of the number of probes; if left off will return the max number of probes.\n",
    "# @markdown #### Do you want to limit the number of probes made?  Y or N\n",
    "maxprobe='n' # @param {type:\"string\"}\n",
    "# @markdown ## Set the maximum number of probes output.\n",
    "# @markdown If you want the most, leave \"maxprobe\" off. \n",
    "# @markdown If you want the optimal cost/probe ratio, enter 0 or 33\n",
    "# @markdown #### Enter a particular number of probes made. The default max is 33.  Enter integer or enter 0 for default.\n",
    "numbr = 0 # @param {type:\"integer\"}"
   ]
  },
  {
   "cell_type": "markdown",
   "metadata": {},
   "source": [
    "# Run probe maker"
   ]
  },
  {
   "cell_type": "code",
   "execution_count": 20,
   "metadata": {},
   "outputs": [
    {
     "name": "stdout",
     "output_type": "stream",
     "text": [
      "\n",
      "\n",
      "HCR3.0 Probe Maker Output version 2021_0.3.2\n",
      "https://doi.org/10.5281/zenodo.3871970\n",
      "\n",
      "Written by Ryan W Null - ORCID_0000-0002-3830-4152\n",
      " with M. Desmond Ramirez - ORCID_0000-0003-3873-6999\n",
      "Dennis Sun - ORCID_0000-0003-1000-7276\n",
      " and B. Duygu Ozpolat - ORCID_0000-0002-1900-965X\n",
      "\n",
      "Copyright 2019-2021  The Ozpolat Lab,  https://bduyguozpolat.org/ \n",
      " with licensing provided under GPL 3.0\n",
      "\n",
      "For more information visit: \n",
      " https://github.com/rwnull/insitu_probe_generator\n",
      "\n",
      "\n",
      "\n",
      "\n",
      "\n",
      "2025-08-13\n",
      "\n",
      "\n",
      "\n",
      "BLASTn of probes in progress, this may take a few minutes.\n",
      "\n",
      "\n",
      "\n",
      "Probe pairs that had possible off-target matches to the provided database (lower e-value but with high site coverage). \n",
      "   Pairs \n",
      "[]\n",
      "\n",
      "Probe pairs that had good matches to the provided database were determined to be the following.\n",
      "   Pairs \n",
      "['0' '1' '10' '11' '12' '13' '14' '15' '16' '17' '18' '19' '2' '20' '21'\n",
      " '22' '23' '24' '25' '26' '27' '28' '29' '3' '30' '31' '4' '5' '6' '7' '8'\n",
      " '9']\n",
      "\n",
      "\n",
      "\n",
      "\n",
      "\n",
      "\n",
      "The probes are provided below in IDT oPool submission format.\n",
      "Copy and Paste the lines below into an XLSX file for submission to IDT starting from 'Pool name'.\n",
      "\n",
      "\n",
      "Pool name, Sequence\n",
      "B5_fzd5_32_Dla100,CTCACTCCCAATCTCTATaaTAAACA CCTGCTCGTTCAGAGTCA\n",
      "B5_fzd5_32_Dla100,CATGCCATCCATCAAATCCGGTGTGaaCTACCCTACAAATCCAAT\n",
      "B5_fzd5_32_Dla100,CTCACTCCCAATCTCTATaaGTATTATGTTCAGACATGTGAT GA\n",
      "B5_fzd5_32_Dla100,CCTGCACACCTGTAGGGTTTACAATaaCTACCCTACAAATCCAAT\n",
      "B5_fzd5_32_Dla100,CTCACTCCCAATCTCTATaaTGCTGTTCCAGCTCGGGCTGTGAGA\n",
      "B5_fzd5_32_Dla100,TGCTGATTTGTGATAGGTCCCAGTGaaCTACCCTACAAATCCAAT\n",
      "B5_fzd5_32_Dla100,CTCACTCCCAATCTCTATaaGGCTGAAACAGGTGGCTTCCGGGTC\n",
      "B5_fzd5_32_Dla100,GTGCTTGCCT CACTGTACATGGATaaCTACCCTACAAATCCAAT\n",
      "B5_fzd5_32_Dla100,CTCACTCCCAATCTCTATaaCCTCCAGGACTCTAAAGTCTTCCCT\n",
      "B5_fzd5_32_Dla100,CATGGGACGTACCGTGCAATAAAGCaaCTACCCTACAAATCCAAT\n",
      "B5_fzd5_32_Dla100,CTCACTCCCAATCTCTATaaACAACAAGACACATG AAGTATTTG\n",
      "B5_fzd5_32_Dla100,CAGATCCAAACACCTGAGGTAATGCaaCTACCCTACAAATCCAAT\n",
      "B5_fzd5_32_Dla100,CTCACTCCCAATCTCTATaaCCTAGTCTCTGGCGTTCAGATGGGC\n",
      "B5_fzd5_32_Dla100,ATGAAGACGGCGTAGTCCGGACCCAaaCTACCCTACAAATCCAAT\n",
      "B5_fzd5_32_Dla100,CTCACTCCCAATCTCTATaaGGCCTGTAATGTTGCTCATACACCA\n",
      "B5_fzd5_32_Dla100,AAC AAGCCAGCGCACGCTCCCAACaaCTACCCTACAAATCCAAT\n",
      "B5_fzd5_32_Dla100,CTCACTCCCAATCTCTATaaGTGTACAGAACGGTGAAGAGCCCAA\n",
      "B5_fzd5_32_Dla100,ACGCCACCACAATAGTGGC AGGTAaaCTACCCTACAAATCCAAT\n",
      "B5_fzd5_32_Dla100,CTCACTCCCAATCTCTATaaTCTTAGTG CCACCCTGTTTAATGA\n",
      "B5_fzd5_32_Dla100,GGATCATTAACTTCTCTAGCTTGTCaaCTACCCTACAAATCCAAT\n",
      "B5_fzd5_32_Dla100,CTCACTCCCAATCTCTATaaCAGCCAGGAGGAAGAGCGAGCCAG \n",
      "B5_fzd5_32_Dla100,TACGTATGCGGAAGAGTGAAACGAAaaCTACCCTACAAATCCAAT\n",
      "B5_fzd5_32_Dla100,CTCACTCCCAATCTCTATaaCAAAGCCTCGTAGGCCCTCCAAGCT\n",
      "B5_fzd5_32_Dla100,AGAGGTAGACGACCAGTGGTGCCAAaaCTACCCTACAAATCCAAT\n",
      "B5_fzd5_32_Dla100,CTCACTCCCAATCTCTATaaCAGGGTCTCCATCAACTGAGCTCAA\n",
      "B5_fzd5_32_Dla100,GTTGCCCACGTA ACAGATCCCAGCaaCTACCCTACAAATCCAAT\n",
      "B5_fzd5_32_Dla100,CTCACTCCCAATCTCTATaaG ACGAGCCAAGCCGCAAGGTGGAA\n",
      "B5_fzd5_32_Dla100,CAGGACTGCGATAGACTTCACACTAaaCTACCCTACAAATCCAAT\n",
      "B5_fzd5_32_Dla100,CTCACTCCCAATCTCTATaaCCCCCATTTCATCCCCG CCGCAAG\n",
      "B5_fzd5_32_Dla100,TTGAGAGTAGCCTGCGATGGCTTCAaaCTACCCTACAAATCCAAT\n",
      "B5_fzd5_32_Dla100,CTCACTCCCAATCTCTATaaGATGGAGCTGGCCATTCCGAAGAAG\n",
      "B5_fzd5_32_Dla100,CCAGGTGAAGGAGAGCACCACCCACaaCTACCCTACAAATCCAAT\n",
      "B5_fzd5_32_Dla100,CTCACTCCCAATCTCTATaaGGCAGGACCTGTGGTGTCGTAGAGA\n",
      "B5_fzd5_32_Dla100,ATGAG CAGAAAAACCAGCGTGCACaaCTACCCTACAAATCCAAT\n",
      "B5_fzd5_32_Dla100,CTCACTCCCAATCTCTATaaAGCCACCCGCTCATGGCCTGCAAGC\n",
      "B5_fzd5_32_Dla100,TGCTGCTGGTCACCAGTGCCC TCGaaCTACCCTACAAATCCAAT\n",
      "B5_fzd5_32_Dla100,CTCACTCCCAATCTCTATaaAGATAACAAG CAGCCAGGAAGATA\n",
      "B5_fzd5_32_Dla100,CGCACAATGTACCCCAGTGACACAAaaCTACCCTACAAATCCAAT\n",
      "B5_fzd5_32_Dla100,CTCACTCCCAATCTCTATaaATGTCGATGAGGAAAGTGGCCACCG\n",
      "B5_fzd5_32_Dla100,GGCCGCTCTGGATATTTGAAGCGCTaaCTACCCTACAAATCCAAT\n",
      "B5_fzd5_32_Dla100,CTCACTCCCAATCTCTATaaGACCATAGCCCTATCCAGAAGGTGG\n",
      "B5_fzd5_32_Dla100,GTGAACGTCGACACAAAGCAAAGCAaaCTACCCTACAAATCCAAT\n",
      "B5_fzd5_32_Dla100,CTCACTCCCAATCTCTATaaGGTTGGTGGCAAGGCAGTGCACAGT\n",
      "B5_fzd5_32_Dla100,AGGTGCGCTCATCC TGGGAAAAGTaaCTACCCTACAAATCCAAT\n",
      "B5_fzd5_32_Dla100,CTCACTCCCAATCTCTATaaCAATGACATTCCCGATCACATTTTT\n",
      "B5_fzd5_32_Dla100,TTTTTAATGGGCACCAGAGGGCCCCaaCTACCCTACAAATCCAAT\n",
      "B5_fzd5_32_Dla100,CTCACTCCCAATCTCTATaaTGACGTGGCGTTCCCTTGGGAGTGG\n",
      "B5_fzd5_32_Dla100,G GGGAGCAGATTTTGCAGTGGCTCaaCTACCCTACAAATCCAAT\n",
      "B5_fzd5_32_Dla100,CTCACTCCCAATCTCTATaaGTTTCACTGCTGTTTCTGTCCATGC\n",
      "B5_fzd5_32_Dla100,TGGGGAATGGAGGTGAT AGAGTTGaaCTACCCTACAAATCCAAT\n",
      "B5_fzd5_32_Dla100,CTCACTCCCAATCTCTATaaGCTGCT CACAACTCATCCGCTCTG\n",
      "B5_fzd5_32_Dla100,GCCGATCGGTGTCACCCAGCATAGGaaCTACCCTACAAATCCAAT\n",
      "B5_fzd5_32_Dla100,CTCACTCCCAATCTCTATaaCACACACAGACCTGCACGGTGGCAG\n",
      "B5_fzd5_32_Dla100,GGGGGAGCAACCCCTCTTCGCTCT aaCTACCCTACAAATCCAAT\n",
      "B5_fzd5_32_Dla100,CTCACTCCCAATCTCTATaaGGTGTACATACTG CACAGAAAGAA\n",
      "B5_fzd5_32_Dla100,CTTTTTGTAGTCCTGAAGGCAGATGaaCTACCCTACAAATCCAAT\n",
      "B5_fzd5_32_Dla100,CTCACTCCCAATCTCTATaaAAGCGGCCAAAACTGGTGCACTTCT\n",
      "B5_fzd5_32_Dla100,CAAGTCTGGGGAGCAGTGAATTCGAaaCTACCCTACAAATCCAAT\n",
      "B5_fzd5_32_Dla100,CTCACTCCCAATCTCTATaaGAACTGGTTGGGCATGTACGTGTGG\n",
      "B5_fzd5_32_Dla100,C CGACTTCATCCTGGTTGTCGTGAaaCTACCCTACAAATCCAAT\n",
      "B5_fzd5_32_Dla100,CTCACTCCCAATCTCTATaaAGTGATGGGCTCACACACTATATCC\n",
      "B5_fzd5_32_Dla100,TATCCGATTCCTTTGCA CATGGGTaaCTACCCTACAAATCCAAT\n",
      "B5_fzd5_32_Dla100,CTCACTCCCAATCTCTATaaTGAAAC AGCAGCAGGACATGCAGC\n",
      "B5_fzd5_32_Dla100,GAGGCTGAATCTCCGAGCCCAGACAaaCTACCCTACAAATCCAAT\n",
      "\n",
      "\n",
      "Figure Layout of Probe Sequences:\n",
      "\n",
      "B5_fzd5_PP32_Dla100\n",
      "Pair#  Initiator  Spacer  Probe  Probe  Spacer  Initiator\n",
      "1   CTCACTCCCAATCTCTAT   aa   TAAACA CCTGCTCGTTCAGAGTCA     CATGCCATCCATCAAATCCGGTGTG   aa   CTACCCTACAAATCCAAT\n",
      "2   CTCACTCCCAATCTCTAT   aa   GTATTATGTTCAGACATGTGAT GA     CCTGCACACCTGTAGGGTTTACAAT   aa   CTACCCTACAAATCCAAT\n",
      "3   CTCACTCCCAATCTCTAT   aa   TGCTGTTCCAGCTCGGGCTGTGAGA     TGCTGATTTGTGATAGGTCCCAGTG   aa   CTACCCTACAAATCCAAT\n",
      "4   CTCACTCCCAATCTCTAT   aa   GGCTGAAACAGGTGGCTTCCGGGTC     GTGCTTGCCT CACTGTACATGGAT   aa   CTACCCTACAAATCCAAT\n",
      "5   CTCACTCCCAATCTCTAT   aa   CCTCCAGGACTCTAAAGTCTTCCCT     CATGGGACGTACCGTGCAATAAAGC   aa   CTACCCTACAAATCCAAT\n",
      "6   CTCACTCCCAATCTCTAT   aa   ACAACAAGACACATG AAGTATTTG     CAGATCCAAACACCTGAGGTAATGC   aa   CTACCCTACAAATCCAAT\n",
      "7   CTCACTCCCAATCTCTAT   aa   CCTAGTCTCTGGCGTTCAGATGGGC     ATGAAGACGGCGTAGTCCGGACCCA   aa   CTACCCTACAAATCCAAT\n",
      "8   CTCACTCCCAATCTCTAT   aa   GGCCTGTAATGTTGCTCATACACCA     AAC AAGCCAGCGCACGCTCCCAAC   aa   CTACCCTACAAATCCAAT\n",
      "9   CTCACTCCCAATCTCTAT   aa   GTGTACAGAACGGTGAAGAGCCCAA     ACGCCACCACAATAGTGGC AGGTA   aa   CTACCCTACAAATCCAAT\n",
      "10   CTCACTCCCAATCTCTAT   aa   TCTTAGTG CCACCCTGTTTAATGA     GGATCATTAACTTCTCTAGCTTGTC   aa   CTACCCTACAAATCCAAT\n",
      "11   CTCACTCCCAATCTCTAT   aa   CAGCCAGGAGGAAGAGCGAGCCAG      TACGTATGCGGAAGAGTGAAACGAA   aa   CTACCCTACAAATCCAAT\n",
      "12   CTCACTCCCAATCTCTAT   aa   CAAAGCCTCGTAGGCCCTCCAAGCT     AGAGGTAGACGACCAGTGGTGCCAA   aa   CTACCCTACAAATCCAAT\n",
      "13   CTCACTCCCAATCTCTAT   aa   CAGGGTCTCCATCAACTGAGCTCAA     GTTGCCCACGTA ACAGATCCCAGC   aa   CTACCCTACAAATCCAAT\n",
      "14   CTCACTCCCAATCTCTAT   aa   G ACGAGCCAAGCCGCAAGGTGGAA     CAGGACTGCGATAGACTTCACACTA   aa   CTACCCTACAAATCCAAT\n",
      "15   CTCACTCCCAATCTCTAT   aa   CCCCCATTTCATCCCCG CCGCAAG     TTGAGAGTAGCCTGCGATGGCTTCA   aa   CTACCCTACAAATCCAAT\n",
      "16   CTCACTCCCAATCTCTAT   aa   GATGGAGCTGGCCATTCCGAAGAAG     CCAGGTGAAGGAGAGCACCACCCAC   aa   CTACCCTACAAATCCAAT\n",
      "17   CTCACTCCCAATCTCTAT   aa   GGCAGGACCTGTGGTGTCGTAGAGA     ATGAG CAGAAAAACCAGCGTGCAC   aa   CTACCCTACAAATCCAAT\n",
      "18   CTCACTCCCAATCTCTAT   aa   AGCCACCCGCTCATGGCCTGCAAGC     TGCTGCTGGTCACCAGTGCCC TCG   aa   CTACCCTACAAATCCAAT\n",
      "19   CTCACTCCCAATCTCTAT   aa   AGATAACAAG CAGCCAGGAAGATA     CGCACAATGTACCCCAGTGACACAA   aa   CTACCCTACAAATCCAAT\n",
      "20   CTCACTCCCAATCTCTAT   aa   ATGTCGATGAGGAAAGTGGCCACCG     GGCCGCTCTGGATATTTGAAGCGCT   aa   CTACCCTACAAATCCAAT\n",
      "21   CTCACTCCCAATCTCTAT   aa   GACCATAGCCCTATCCAGAAGGTGG     GTGAACGTCGACACAAAGCAAAGCA   aa   CTACCCTACAAATCCAAT\n",
      "22   CTCACTCCCAATCTCTAT   aa   GGTTGGTGGCAAGGCAGTGCACAGT     AGGTGCGCTCATCC TGGGAAAAGT   aa   CTACCCTACAAATCCAAT\n",
      "23   CTCACTCCCAATCTCTAT   aa   CAATGACATTCCCGATCACATTTTT     TTTTTAATGGGCACCAGAGGGCCCC   aa   CTACCCTACAAATCCAAT\n",
      "24   CTCACTCCCAATCTCTAT   aa   TGACGTGGCGTTCCCTTGGGAGTGG     G GGGAGCAGATTTTGCAGTGGCTC   aa   CTACCCTACAAATCCAAT\n",
      "25   CTCACTCCCAATCTCTAT   aa   GTTTCACTGCTGTTTCTGTCCATGC     TGGGGAATGGAGGTGAT AGAGTTG   aa   CTACCCTACAAATCCAAT\n",
      "26   CTCACTCCCAATCTCTAT   aa   GCTGCT CACAACTCATCCGCTCTG     GCCGATCGGTGTCACCCAGCATAGG   aa   CTACCCTACAAATCCAAT\n",
      "27   CTCACTCCCAATCTCTAT   aa   CACACACAGACCTGCACGGTGGCAG     GGGGGAGCAACCCCTCTTCGCTCT    aa   CTACCCTACAAATCCAAT\n",
      "28   CTCACTCCCAATCTCTAT   aa   GGTGTACATACTG CACAGAAAGAA     CTTTTTGTAGTCCTGAAGGCAGATG   aa   CTACCCTACAAATCCAAT\n",
      "29   CTCACTCCCAATCTCTAT   aa   AAGCGGCCAAAACTGGTGCACTTCT     CAAGTCTGGGGAGCAGTGAATTCGA   aa   CTACCCTACAAATCCAAT\n",
      "30   CTCACTCCCAATCTCTAT   aa   GAACTGGTTGGGCATGTACGTGTGG     C CGACTTCATCCTGGTTGTCGTGA   aa   CTACCCTACAAATCCAAT\n",
      "31   CTCACTCCCAATCTCTAT   aa   AGTGATGGGCTCACACACTATATCC     TATCCGATTCCTTTGCA CATGGGT   aa   CTACCCTACAAATCCAAT\n",
      "32   CTCACTCCCAATCTCTAT   aa   TGAAAC AGCAGCAGGACATGCAGC     GAGGCTGAATCTCCGAGCCCAGACA   aa   CTACCCTACAAATCCAAT\n",
      "\n",
      "\n",
      "\n",
      "\n",
      "Below are the hybridizing sequences and where they align to the cDNA:\n",
      "\n",
      "Pair#  cDNAcoord  Probe  cDNAcoord  cDNAcoord  Probe  cDNAcoord\n",
      "32   175   GAGGCTGAATCTCCGAGCCCAGACA   150     148   TGAAAC AGCAGCAGGACATGCAGC   123\n",
      "31   230   TATCCGATTCCTTTGCA CATGGGT   205     203   AGTGATGGGCTCACACACTATATCC   178\n",
      "30   285   C CGACTTCATCCTGGTTGTCGTGA   260     258   GAACTGGTTGGGCATGTACGTGTGG   233\n",
      "29   340   CAAGTCTGGGGAGCAGTGAATTCGA   315     313   AAGCGGCCAAAACTGGTGCACTTCT   288\n",
      "28   395   CTTTTTGTAGTCCTGAAGGCAGATG   370     368   GGTGTACATACTG CACAGAAAGAA   343\n",
      "27   450   GGGGGAGCAACCCCTCTTCGCTCT    425     423   CACACACAGACCTGCACGGTGGCAG   398\n",
      "26   530   GCCGATCGGTGTCACCCAGCATAGG   505     503   GCTGCT CACAACTCATCCGCTCTG   478\n",
      "25   585   TGGGGAATGGAGGTGAT AGAGTTG   560     558   GTTTCACTGCTGTTTCTGTCCATGC   533\n",
      "24   640   G GGGAGCAGATTTTGCAGTGGCTC   615     613   TGACGTGGCGTTCCCTTGGGAGTGG   588\n",
      "23   695   TTTTTAATGGGCACCAGAGGGCCCC   670     668   CAATGACATTCCCGATCACATTTTT   643\n",
      "22   795   AGGTGCGCTCATCC TGGGAAAAGT   770     768   GGTTGGTGGCAAGGCAGTGCACAGT   743\n",
      "21   850   GTGAACGTCGACACAAAGCAAAGCA   825     823   GACCATAGCCCTATCCAGAAGGTGG   798\n",
      "20   905   GGCCGCTCTGGATATTTGAAGCGCT   880     878   ATGTCGATGAGGAAAGTGGCCACCG   853\n",
      "19   960   CGCACAATGTACCCCAGTGACACAA   935     933   AGATAACAAG CAGCCAGGAAGATA   908\n",
      "18   1015   TGCTGCTGGTCACCAGTGCCC TCG   990     988   AGCCACCCGCTCATGGCCTGCAAGC   963\n",
      "17   1070   ATGAG CAGAAAAACCAGCGTGCAC   1045     1043   GGCAGGACCTGTGGTGTCGTAGAGA   1018\n",
      "16   1125   CCAGGTGAAGGAGAGCACCACCCAC   1100     1098   GATGGAGCTGGCCATTCCGAAGAAG   1073\n",
      "15   1180   TTGAGAGTAGCCTGCGATGGCTTCA   1155     1153   CCCCCATTTCATCCCCG CCGCAAG   1128\n",
      "14   1235   CAGGACTGCGATAGACTTCACACTA   1210     1208   G ACGAGCCAAGCCGCAAGGTGGAA   1183\n",
      "13   1290   GTTGCCCACGTA ACAGATCCCAGC   1265     1263   CAGGGTCTCCATCAACTGAGCTCAA   1238\n",
      "12   1345   AGAGGTAGACGACCAGTGGTGCCAA   1320     1318   CAAAGCCTCGTAGGCCCTCCAAGCT   1293\n",
      "11   1400   TACGTATGCGGAAGAGTGAAACGAA   1375     1373   CAGCCAGGAGGAAGAGCGAGCCAG    1348\n",
      "10   1455   GGATCATTAACTTCTCTAGCTTGTC   1430     1428   TCTTAGTG CCACCCTGTTTAATGA   1403\n",
      "9   1510   ACGCCACCACAATAGTGGC AGGTA   1485     1483   GTGTACAGAACGGTGAAGAGCCCAA   1458\n",
      "8   1565   AAC AAGCCAGCGCACGCTCCCAAC   1540     1538   GGCCTGTAATGTTGCTCATACACCA   1513\n",
      "7   1620   ATGAAGACGGCGTAGTCCGGACCCA   1595     1593   CCTAGTCTCTGGCGTTCAGATGGGC   1568\n",
      "6   1675   CAGATCCAAACACCTGAGGTAATGC   1650     1648   ACAACAAGACACATG AAGTATTTG   1623\n",
      "5   1730   CATGGGACGTACCGTGCAATAAAGC   1705     1703   CCTCCAGGACTCTAAAGTCTTCCCT   1678\n",
      "4   1785   GTGCTTGCCT CACTGTACATGGAT   1760     1758   GGCTGAAACAGGTGGCTTCCGGGTC   1733\n",
      "3   1840   TGCTGATTTGTGATAGGTCCCAGTG   1815     1813   TGCTGTTCCAGCTCGGGCTGTGAGA   1788\n",
      "2   1895   CCTGCACACCTGTAGGGTTTACAAT   1870     1868   GTATTATGTTCAGACATGTGAT GA   1843\n",
      "1   1950   CATGCCATCCATCAAATCCGGTGTG   1925     1923   TAAACA CCTGCTCGTTCAGAGTCA   1898\n",
      "\n",
      "\n",
      "\n",
      "\n",
      "This is the in-place localization of the probe pairs along the full-length sense cDNA.\n",
      "\n",
      ">fzd5 Sense Strand\n",
      "nnnnnnnnnnnnnnnnnnnnnnnnnnnnnnnnnnnnnnnnnnnnnnnnnnnnnnnnnnnnnnnnnnnnnnnnnnnnnnnnnnnnnnnnnnnnnnnnnnnnnnnnnnnnnnnnnnnnnnnnnnnGCTGCATGTCCTGCTGCT GTTTCAnnTGTCTGGGCTCGGAGATTCAGCCTCnnnGGATATAGTGTGTGAGCCCATCACTnnACCCATG TGCAAAGGAATCGGATAnnnCCACACGTACATGCCCAACCAGTTCnnTCACGACAACCAGGATGAAGTCG GnnnAGAAGTGCACCAGTTTTGGCCGCTTnnTCGAATTCACTGCTCCCCAGACTTGnnnTTCTTTCTGTG CAGTATGTACACCnnCATCTGCCTTCAGGACTACAAAAAGnnnCTGCCACCGTGCAGGTCTGTGTGTGnn AGAGCGAAGAGGGGTTGCTCCCCCnnnnnnnnnnnnnnnnnnnnnnnnnnnnCAGAGCGGATGAGTTGTG AGCAGCnnCCTATGCTGGGTGACACCGATCGGCnnnGCATGGACAGAAACAGCAGTGAAACnnCAACTCT ATCACCTCCATTCCCCAnnnCCACTCCCAAGGGAACGCCACGTCAnnGAGCCACTGCAAAATCTGCTCCC CnnnAAAAATGTGATCGGGAATGTCATTGnnGGGGCCCTCTGGTGCCCATTAAAAAnnnnnnnnnnnnnnnnnnnnnnnnnnnnnnnnnnnnnnnnnnnnnnnnACTGTGCACTGCCTTGCCACCAACCnnACTTTTCCCA GGATGAGCGCACCTnnnCCACCTTCTGGATAGGGCTATGGTCnnTGCTTTGCTTTGTGTCGACGTTCACnnnCGGTGGCCACTTTCCTCATCGACATnnAGCGCTTCAAATATCCAGAGCGGCCnnnTATCTTCCTGGCTG CTTGTTATCTnnTTGTGTCACTGGGGTACATTGTGCGnnnGCTTGCAGGCCATGAGCGGGTGGCTnnCGA GGGCACTGGTGACCAGCAGCAnnnTCTCTACGACACCACAGGTCCTGCCnnGTGCACGCTGGTTTTTCTG CTCATnnnCTTCTTCGGAATGGCCAGCTCCATCnnGTGGGTGGTGCTCTCCTTCACCTGGnnnCTTGCGG CGGGGATGAAATGGGGGnnTGAAGCCATCGCAGGCTACTCTCAAnnnTTCCACCTTGCGGCTTGGCTCGT CnnTAGTGTGAAGTCTATCGCAGTCCTGnnnTTGAGCTCAGTTGATGGAGACCCTGnnGCTGGGATCTGT TACGTGGGCAACnnnAGCTTGGAGGGCCTACGAGGCTTTGnnTTGGCACCACTGGTCGTCTACCTCTnnn CTGGCTCGCTCTTCCTCCTGGCTGnnTTCGTTTCACTCTTCCGCATACGTAnnnTCATTAAACAGGGTGG CACTAAGAnnGACAAGCTAGAGAAGTTAATGATCCnnnTTGGGCTCTTCACCGTTCTGTACACnnTACCT GCCACTATTGTGGTGGCGTnnnTGGTGTATGAGCAACATTACAGGCCnnGTTGGGAGCGTGCGCTGGCTT GTTnnnGCCCATCTGAACGCCAGAGACTAGGnnTGGGTCCGGACTACGCCGTCTTCATnnnCAAATACTT CATGTGTCTTGTTGTnnGCATTACCTCAGGTGTTTGGATCTGnnnAGGGAAGACTTTAGAGTCCTGGAGGnnGCTTTATTGCACGGTACGTCCCATGnnnGACCCGGAAGCCACCTGTTTCAGCCnnATCCATGTACAGTG AGGCAAGCACnnnTCTCACAGCCCGAGCTGGAACAGCAnnCACTGGGACCTATCACAAATCAGCAnnnTC ATCACATGTCTGAACATAATACnnATTGTAAACCCTACAGGTGTGCAGGnnnTGACTCTGAACGAGCAGG TGTTTAnnCACACCGGATTTGATGGATGGCATG\n",
      "\n",
      "\n",
      "\n",
      "\n",
      "Anti-sense sequence used to create probes:\n",
      "\n",
      ">fzd5 Anti-Sense Strand\n",
      "CATGCCATCCATCAAATCCGGTGTGAATAAACA CCTGCTCGTTCAGAGTCATGACCTGCACACCTGTAGGGTTTACAATGTGTATTATGTTCAGACATGTGAT GAGGGTGCTGATTTGTGATAGGTCCCAGTGGGTGCTGTTCCAGCTCGGGCTGTGAGAGCTGTGCTTGCCT CACTGTACATGGATGAGGCTGAAACAGGTGGCTTCCGGGTCCTACATGGGACGTACCGTGCAATAAAGCG CCTCCAGGACTCTAAAGTCTTCCCTGACCAGATCCAAACACCTGAGGTAATGCCTACAACAAGACACATG AAGTATTTGAGCATGAAGACGGCGTAGTCCGGACCCATGCCTAGTCTCTGGCGTTCAGATGGGCAAGAAC AAGCCAGCGCACGCTCCCAACTTGGCCTGTAATGTTGCTCATACACCAAGCACGCCACCACAATAGTGGC AGGTACAGTGTACAGAACGGTGAAGAGCCCAATACGGATCATTAACTTCTCTAGCTTGTCCGTCTTAGTG CCACCCTGTTTAATGACGCTACGTATGCGGAAGAGTGAAACGAAGCCAGCCAGGAGGAAGAGCGAGCCAG TGAAGAGGTAGACGACCAGTGGTGCCAACACAAAGCCTCGTAGGCCCTCCAAGCTCTGGTTGCCCACGTA ACAGATCCCAGCCACAGGGTCTCCATCAACTGAGCTCAAGGCCAGGACTGCGATAGACTTCACACTAGGG ACGAGCCAAGCCGCAAGGTGGAAGTATTGAGAGTAGCCTGCGATGGCTTCATTCCCCCATTTCATCCCCG CCGCAAGAAACCAGGTGAAGGAGAGCACCACCCACCAGATGGAGCTGGCCATTCCGAAGAAGTAAATGAG CAGAAAAACCAGCGTGCACAGGGCAGGACCTGTGGTGTCGTAGAGAATGTGCTGCTGGTCACCAGTGCCC TCGCAAGCCACCCGCTCATGGCCTGCAAGCAGTCGCACAATGTACCCCAGTGACACAAACAGATAACAAG CAGCCAGGAAGATAATCGGCCGCTCTGGATATTTGAAGCGCTCCATGTCGATGAGGAAAGTGGCCACCGT GGTGAACGTCGACACAAAGCAAAGCACCGACCATAGCCCTATCCAGAAGGTGGTGAAGGTGCGCTCATCC TGGGAAAAGTAGGGTTGGTGGCAAGGCAGTGCACAGTTAGGTAGAGAGCCAGTATTCACACGGTTATGAA GAGGATGTGCTTCTTTTTTAATGGGCACCAGAGGGCCCCGGCAATGACATTCCCGATCACATTTTTGTGG GGGAGCAGATTTTGCAGTGGCTCTGTGACGTGGCGTTCCCTTGGGAGTGGGTTTGGGGAATGGAGGTGAT AGAGTTGTGGTTTCACTGCTGTTTCTGTCCATGCAAAGCCGATCGGTGTCACCCAGCATAGGCAGCTGCT CACAACTCATCCGCTCTGGCCACTCAAACCCATACTGGATCATGAGGGGGGAGCAACCCCTCTTCGCTCT CTCACACACAGACCTGCACGGTGGCAGGGGCTTTTTGTAGTCCTGAAGGCAGATGGGGGTGTACATACTG CACAGAAAGAAAAGCAAGTCTGGGGAGCAGTGAATTCGAACAAGCGGCCAAAACTGGTGCACTTCTAAGC CGACTTCATCCTGGTTGTCGTGATTGAACTGGTTGGGCATGTACGTGTGGTTGTATCCGATTCCTTTGCA CATGGGTACAGTGATGGGCTCACACACTATATCCTTAGAGGCTGAATCTCCGAGCCCAGACAGTTGAAAC AGCAGCAGGACATGCAGCCAAAATCCGACCAGGTGCATCCCTGAGGTCTCCATGGTGAAATGATGCTCGT CTGCAGGTTTCCTCATACTGGAAAGCTATGAATTTCAATTCTTGAGTATTTACTCAGCTCAGGGGTTTTT\n",
      "\n",
      "\n",
      "\n",
      "\n",
      "References: \n",
      "\n",
      " See Choi et al. 2018 Development for HCR3.0 methodology details \n",
      " https://www.ncbi.nlm.nih.gov/pmc/articles/PMC6031405/ \n",
      "\n",
      " See Wang et al. 2020 BioRxiv for expanded amplifier information \n",
      " https://www.biorxiv.org/content/10.1101/274456v3 \n"
     ]
    }
   ],
   "source": [
    "from maker37cb import maker\n",
    "maker(name,fullseq,amplifier,pause,choose,polyAT,polyCG,BlastProbes,db,dropout,show,report,maxprobe,numbr)"
   ]
  }
 ],
 "metadata": {
  "kernelspec": {
   "display_name": "hcr",
   "language": "python",
   "name": "python3"
  },
  "language_info": {
   "codemirror_mode": {
    "name": "ipython",
    "version": 3
   },
   "file_extension": ".py",
   "mimetype": "text/x-python",
   "name": "python",
   "nbconvert_exporter": "python",
   "pygments_lexer": "ipython3",
   "version": "3.11.13"
  }
 },
 "nbformat": 4,
 "nbformat_minor": 4
}
