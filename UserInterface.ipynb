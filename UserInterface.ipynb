{
 "cells": [
  {
   "cell_type": "code",
   "execution_count": null,
   "metadata": {},
   "outputs": [],
   "source": [
    "%load_ext ipyform\n",
    "%form_config --auto-detect 1\n",
    "import warnings\n",
    "warnings.filterwarnings('ignore')"
   ]
  },
  {
   "cell_type": "markdown",
   "metadata": {},
   "source": [
    "# Welcome to the HCR 3.0 Probe Maker v0.3.2\n",
    "\n",
    "### Written by:\n",
    "RW Null, MD Ramirez, D Sun, and BD Özpolat\n",
    "\n",
    "#### Modified by Daniel Bautista at the BBC Van Andel Institute\n",
    "\n"
   ]
  },
  {
   "cell_type": "markdown",
   "metadata": {},
   "source": [
    "## Set up the inputs\n",
    "\n",
    "Run the following cell to activate the "
   ]
  },
  {
   "cell_type": "code",
   "execution_count": null,
   "metadata": {},
   "outputs": [],
   "source": [
    "# @title Fill the following cells { display-mode: \"form\" }\n",
    "# @markdown #### What is the gene name? (ex. eGFP)\n",
    "name = \"fzd5\" # @param {type:\"string\"}\n",
    "# @markdown #### Enter the sense sequence of your cDNA without spaces or returns.\n",
    "fullseq = \"\" # @param {type:\"string\"}\n",
    "# @markdown #### What is the amplifier to be used with this probe set? B1,B2,B3,B4,B5,B7,B9,B10,B11,B13,B14,B15,or B17\n",
    "amplifier = \"B5\" # @param [\"B1\",\"B2\",\"B3\",\"B4\",\"B5\",\"B7\",\"B9\",\"B10\",\"B11\",\"B13\",\"B14\",\"B15\",\"B17\"] {allow-input: true}\n",
    "# @markdown #### How many bases from 5' end of the Sense RNA before starting to hybridize? ex. 100\n",
    "pause = 100 # @param {type:\"number\"}\n",
    "# @markdown #### What is the max acceptable length for polyA or polyT homopolymers? \n",
    "polyAT = 5 # @param {type:\"number\"}\n",
    "# @markdown #### What is the max acceptable length for polyC or polyG homopolymers? \n",
    "polyCG = 5 # @param {type:\"number\"}\n",
    "# @markdown #### Do you want to be able to select between potential longest probe sets? (Choosing 'N' defaults to the first longest set of probes.)\n",
    "choose = False # @param {type:\"boolean\"}"
   ]
  },
  {
   "cell_type": "code",
   "execution_count": null,
   "metadata": {},
   "outputs": [],
   "source": [
    "# @title Advance options { display-mode: \"form\" }\n",
    "# @markdown #### Do you want to be able to select between potential longest probe sets? (Choosing 'N' defaults to the first longest set of probes.) Y or N    \"\n",
    "choose1='n' # @param {type:\"string\"}\n",
    "# @markdown #### Would you like BLAST potential probes against a FASTA file?  Y or N \n",
    "BlastProbes='y' # @param {type:\"string\"}\n",
    "# @markdown #### \n",
    "#BlastcDNA='n'\n",
    "# @markdown #### Where is the FASTA file you would like to BLAST against? Example: 'ref/*.fasta' Ignore if not BLASTing \"\n",
    "db=\"ref/Danio_rerio.GRCz11.cdna.all.fa\" # @param {type:\"string\"}\n",
    "# @markdown #### Do you want to eliminate probes that appear in low quaility BLAST outputs? Y or N \n",
    "dropout='n' # @param {type:\"string\"}\n",
    "# @markdown #### Do you want to display detailed BLAST outputs? Y or N \n",
    "show='n' # @param {type:\"string\"}\n",
    "# @markdown #### Do you want to display chosen parameters in output? Y or N \n",
    "report='n' # @param {type:\"string\"}\n",
    "# @markdown ## Toggle the max/arbitrary number of output sequences\n",
    "# @markdown The biggest number of probes OPools will allow is 33 probe pairs at 50pmol for 99 dollars, less still costs 99, more increases the cost by each additional base.\n",
    "# @markdown This option will let you set the limit of the number of probes; if left off will return the max number of probes.\n",
    "# @markdown #### Do you want to limit the number of probes made?  Y or N\n",
    "maxprobe='n' # @param {type:\"string\"}\n",
    "# @markdown ## Set the maximum number of probes output.\n",
    "# @markdown If you want the most, leave \"maxprobe\" off. \n",
    "# @markdown If you want the optimal cost/probe ratio, enter 0 or 33\n",
    "# @markdown #### Enter a particular number of probes made. The default max is 33.  Enter integer or enter 0 for default.\n",
    "numbr = 0 # @param {type:\"integer\"}"
   ]
  },
  {
   "cell_type": "markdown",
   "metadata": {},
   "source": [
    "# Run probe maker"
   ]
  },
  {
   "cell_type": "code",
   "execution_count": null,
   "metadata": {},
   "outputs": [],
   "source": [
    "# @markdown ## Check the cell to run.\n",
    "Run = False # @param {type:\"boolean\"}\n"
   ]
  },
  {
   "cell_type": "code",
   "execution_count": null,
   "metadata": {},
   "outputs": [],
   "source": [
    "from maker37cb import maker\n",
    "maker(name,fullseq,amplifier,pause,choose,polyAT,polyCG,BlastProbes,db,dropout,show,report,maxprobe,numbr) if Run else \"Not running\""
   ]
  }
 ],
 "metadata": {
  "kernelspec": {
   "display_name": "hcr",
   "language": "python",
   "name": "python3"
  },
  "language_info": {
   "codemirror_mode": {
    "name": "ipython",
    "version": 3
   },
   "file_extension": ".py",
   "mimetype": "text/x-python",
   "name": "python",
   "nbconvert_exporter": "python",
   "pygments_lexer": "ipython3",
   "version": "3.11.13"
  }
 },
 "nbformat": 4,
 "nbformat_minor": 4
}
